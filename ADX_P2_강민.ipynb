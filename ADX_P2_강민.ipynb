{
 "cells": [
  {
   "cell_type": "markdown",
   "metadata": {
    "id": "FCzqQv-lpXNK"
   },
   "source": [
    "# Project 2. P2P  대출심사 알고리즘\n",
    "**과목명:  응용데이터애널리틱스 (Applied Data Analytics)** \\\\\n",
    "**학수번호:  INE4108** \\\\\n",
    "**교강사:  송재욱 교수 (산업공학과)** \\\\\n",
    " \\\\\n",
    "***"
   ]
  },
  {
   "cell_type": "markdown",
   "metadata": {
    "id": "21F0poqDnriY"
   },
   "source": [
    "## 1. Environmental Set-up & Data Loading"
   ]
  },
  {
   "cell_type": "code",
   "execution_count": 1,
   "metadata": {
    "id": "BYJs-XpVRi26"
   },
   "outputs": [],
   "source": [
    "import warnings\n",
    "\n",
    "warnings.filterwarnings(action='ignore')"
   ]
  },
  {
   "cell_type": "code",
   "execution_count": 5,
   "metadata": {
    "colab": {
     "base_uri": "https://localhost:8080/"
    },
    "id": "16gjgF_8nmu_",
    "outputId": "74275d87-761d-4089-de34-aab67a191e4b"
   },
   "outputs": [],
   "source": [
    "'''\n",
    "from google.colab import drive\n",
    "\n",
    "\n",
    "drive.mount('/content/drive', force_remount=True)\n",
    "\n",
    "# enter the foldername in your Google Drive where you have saved the unzipped\n",
    "FOLDERNAME =  'ADX/'\n",
    "\n",
    "assert FOLDERNAME is not None, 'ERROR'\n",
    "\n",
    "%cd drive/My\\ Drive\n",
    "%cp -r $FOLDERNAME ../../\n",
    "'''\n",
    "import pandas as pd\n",
    "# 모델 수립을 위한 Train/Validation Set\n",
    "df = pd.read_csv('P2_dataset.csv', encoding ='cp949') \n",
    "\n",
    "# 시스템 구현을 위한 Test Set 샘플\n",
    "df_test = pd.read_csv('P2_dataset_test_sample.csv', encoding ='cp949')"
   ]
  },
  {
   "cell_type": "code",
   "execution_count": null,
   "metadata": {
    "colab": {
     "base_uri": "https://localhost:8080/"
    },
    "id": "9z78nbxAko0v",
    "outputId": "fb1ab397-7fdd-45ee-eb0b-e99c247edaf7"
   },
   "outputs": [
    {
     "name": "stdout",
     "output_type": "stream",
     "text": [
      "Password:"
     ]
    }
   ],
   "source": [
    "# import random\n",
    "import numpy as np\n",
    "import matplotlib.pyplot as plt\n",
    "import pandas as pd\n",
    "\n",
    "%matplotlib inline\n",
    "plt.rcParams['figure.figsize'] = (10.0, 8.0) # set default size of plots\n",
    "plt.rcParams['image.interpolation'] = 'nearest'\n",
    "plt.rcParams['image.cmap'] = 'gray'\n",
    "\n",
    "# 한글 나눔포트 사용\n",
    "!sudo apt-get install -y fonts-nanum\n",
    "!sudo fc-cache -fv\n",
    "!rm ~/.cache/matplotlib -rf\n",
    "\n",
    "from matplotlib import font_manager, rc\n",
    "import seaborn as sns\n",
    "\n",
    "plt.rc('font', family='NanumBarunGothic')\n",
    "\n",
    "def plotHistogram(_df, columns):\n",
    "    if type(columns) != list :\n",
    "        print(\"columns 타입이 리스트가 아닙니다.\")\n",
    "        return\n",
    "    for _n, i in enumerate(columns):\n",
    "        df.describe()\n",
    "        fig=plt.figure(figsize=(20,8))\n",
    "        fig.patch.set_facecolor('xkcd:white')\n",
    "\n",
    "        plt.subplot(2,3,_n + 1)\n",
    "        plt.title(i)\n",
    "        df.loc[:,i].hist(bins=50)\n",
    "    plt.show()"
   ]
  },
  {
   "cell_type": "markdown",
   "metadata": {
    "id": "rv3tA_28ovjx"
   },
   "source": [
    "## 2. Modelling\n",
    "- df를 사용하여 예측모형 수립\n",
    "- Feature engineering에 대한 토의/구현 진행\n",
    "- Computation time을 고려하여 전체 데이터를 완전히 사용하지 말고 Sampling하여 Model Train/Vadliation을 진행하는 것을 추천\n",
    "- Sampling을 단 한번 한 것으로 모형 Train 한 것이 과연 옳은 것인지에 대해 팀원들과 고민해볼 것. 해결 방법은 없을지 서치해보는 것도 하나의 task임."
   ]
  },
  {
   "cell_type": "code",
   "execution_count": null,
   "metadata": {
    "id": "QpSTNH9SJS3I"
   },
   "outputs": [],
   "source": [
    "df.head()"
   ]
  },
  {
   "cell_type": "code",
   "execution_count": null,
   "metadata": {
    "id": "YnHtADR36CTf"
   },
   "outputs": [],
   "source": [
    "df['loan_status'].value_counts()"
   ]
  },
  {
   "cell_type": "code",
   "execution_count": null,
   "metadata": {
    "id": "sAZYfbkODUxw"
   },
   "outputs": [],
   "source": [
    "df.shape"
   ]
  },
  {
   "cell_type": "code",
   "execution_count": null,
   "metadata": {
    "id": "cxZVIFYAdsxN"
   },
   "outputs": [],
   "source": [
    "for i in df.columns :\n",
    "    X_i = df.loc[:,i]\n",
    "    if X_i.dropna().shape[0]/df.shape[0] < 1:\n",
    "      print(\"column {} : {} not null ratio\".format(i,X_i.dropna().shape[0]/df.shape[0]))\n",
    "      print(\"\")\n",
    "      print()\n",
    "    if X_i.dtypes == 'object':\n",
    "      print('column {} : '.format(i))\n",
    "      print(df.loc[:,i].unique())\n",
    "      print(\"\")\n",
    "      print()"
   ]
  },
  {
   "cell_type": "code",
   "execution_count": 4,
   "metadata": {
    "id": "4nOe1-8Bd4bM"
   },
   "outputs": [],
   "source": [
    "df1=df.dropna(axis=0)\n",
    "df1 = df1.replace({'sub_grade' :'A1'},1)\n",
    "df1 = df1.replace({'sub_grade' : 'A2'},2)\n",
    "df1 = df1.replace({'sub_grade' : 'A3'},3)\n",
    "df1 = df1.replace({'sub_grade' : 'A4'},4)\n",
    "df1 = df1.replace({'sub_grade' : 'A5'},5)\n",
    "df1 = df1.replace({'sub_grade' : 'B1'},6)\n",
    "df1 = df1.replace({'sub_grade' : 'B2'},7)\n",
    "df1 = df1.replace({'sub_grade' : 'B3'},8)\n",
    "df1 = df1.replace({'sub_grade' : 'B4'},9)\n",
    "df1 = df1.replace({'sub_grade' : 'B5'},10)\n",
    "df1 = df1.replace({'sub_grade' : 'C1'},11)\n",
    "df1 = df1.replace({'sub_grade' : 'C2'},12)\n",
    "df1 = df1.replace({'sub_grade' : 'C3'},13)\n",
    "df1 = df1.replace({'sub_grade' : 'C4'},14)\n",
    "df1 = df1.replace({'sub_grade' : 'C5'},15)\n",
    "df1 = df1.replace({'sub_grade' : 'D1'},16)\n",
    "df1 = df1.replace({'sub_grade' :'D2'},17)\n",
    "df1 = df1.replace({'sub_grade' : 'D3'},18)\n",
    "df1 = df1.replace({'sub_grade' : 'D4'},19)\n",
    "df1 = df1.replace({'sub_grade' : 'D5'},20)\n",
    "df1 = df1.replace({'sub_grade' : 'E1'},21)\n",
    "df1 = df1.replace({'sub_grade' : 'E2'},22)\n",
    "df1 = df1.replace({'sub_grade' : 'E3'},23)\n",
    "df1 = df1.replace({'sub_grade' : 'E4'},24)\n",
    "df1 = df1.replace({'sub_grade' : 'E5'},25)\n",
    "df1 = df1.replace({'sub_grade' : 'F1'},26)\n",
    "df1 = df1.replace({'sub_grade' : 'F2'},27)\n",
    "df1 = df1.replace({'sub_grade' : 'F3'},28)\n",
    "df1 = df1.replace({'sub_grade' : 'F4'},29)\n",
    "df1 = df1.replace({'sub_grade' : 'F5'},30)\n",
    "df1 = df1.replace({'sub_grade' : 'G1'},31)\n",
    "df1 = df1.replace({'sub_grade' : 'G2'},32)\n",
    "df1 = df1.replace({'sub_grade' : 'G3'},33)\n",
    "df1 = df1.replace({'sub_grade' : 'G4'},34)\n",
    "df1 = df1.replace({'sub_grade' : 'G5'},35)\n",
    "\n",
    "df1=df1.drop('grade', axis=1)\n",
    "\n",
    "df1 = df1.replace({'emp_length' :'10+ years'},10)\n",
    "df1 = df1.replace({'emp_length' :'9 years'},9)\n",
    "df1 = df1.replace({'emp_length' :'8 years'},8)\n",
    "df1 = df1.replace({'emp_length' :'7 years'},7)\n",
    "df1 = df1.replace({'emp_length' :'6 years'},6)\n",
    "df1 = df1.replace({'emp_length' :'5 years'},5)\n",
    "df1 = df1.replace({'emp_length' :'4 years'},4)\n",
    "df1 = df1.replace({'emp_length' :'3 years'},3)\n",
    "df1 = df1.replace({'emp_length' :'2 years'},2)\n",
    "df1 = df1.replace({'emp_length' :'1 year'},1)\n",
    "df1 = df1.replace({'emp_length' :'< 1 year'},0)"
   ]
  },
  {
   "cell_type": "code",
   "execution_count": 5,
   "metadata": {
    "colab": {
     "base_uri": "https://localhost:8080/"
    },
    "id": "SCNsq2lpGDVQ",
    "outputId": "0e9d8e4b-772f-4cea-f937-f02c94b0b29d"
   },
   "outputs": [
    {
     "name": "stdout",
     "output_type": "stream",
     "text": [
      "Column name : home_ownership\n",
      "Element name : RENT\n",
      "Failed ratio : 0.14945909043167735\n",
      "Element name : MORTGAGE\n",
      "Failed ratio : 0.10566304629454563\n",
      "Element name : OWN\n",
      "Failed ratio : 0.13404825737265416\n",
      "Element name : OTHER\n",
      "Failed ratio : 0.1796875\n",
      "Element name : NONE\n",
      "Failed ratio : 0.15151515151515152\n",
      "Element name : ANY\n",
      "Failed ratio : 0.0\n",
      "\n",
      "\n",
      "Column name : verification_status\n",
      "Element name : Source Verified\n",
      "Failed ratio : 0.1337365818493112\n",
      "Element name : Verified\n",
      "Failed ratio : 0.13378387618808835\n",
      "Element name : Not Verified\n",
      "Failed ratio : 0.11866071923750367\n",
      "\n",
      "\n",
      "Column name : purpose\n",
      "Element name : debt_consolidation\n",
      "Failed ratio : 0.13298969671259464\n",
      "Element name : other\n",
      "Failed ratio : 0.15249248880985958\n",
      "Element name : credit_card\n",
      "Failed ratio : 0.10667655578723464\n",
      "Element name : house\n",
      "Failed ratio : 0.15087719298245614\n",
      "Element name : major_purchase\n",
      "Failed ratio : 0.10560093348891482\n",
      "Element name : home_improvement\n",
      "Failed ratio : 0.10901109620777955\n",
      "Element name : small_business\n",
      "Failed ratio : 0.22049825174825174\n",
      "Element name : moving\n",
      "Failed ratio : 0.17444395987788922\n",
      "Element name : vacation\n",
      "Failed ratio : 0.14773869346733667\n",
      "Element name : medical\n",
      "Failed ratio : 0.15996371333534926\n",
      "Element name : car\n",
      "Failed ratio : 0.09635974304068523\n",
      "Element name : wedding\n",
      "Failed ratio : 0.10754504504504504\n",
      "Element name : renewable_energy\n",
      "Failed ratio : 0.16538461538461538\n",
      "Element name : educational\n",
      "Failed ratio : 0.15073529411764705\n",
      "\n",
      "\n"
     ]
    }
   ],
   "source": [
    "# 갚지 않은 사람의 비율이 낮은 원소부터 0, 1, ... 오름차순으로 order 부여\n",
    "\n",
    "to_dummy = ['home_ownership', 'verification_status', 'purpose']\n",
    "ratio_dicts = {}\n",
    "\n",
    "for col in to_dummy:\n",
    "  print('Column name : {}'.format(col))\n",
    "  elements = df1[col].unique()\n",
    "  ratios = {}\n",
    "  for ele in elements:\n",
    "    print('Element name : {}'.format(ele))\n",
    "    temp_df = df1[df1[col] == ele]\n",
    "    failed_people = temp_df[temp_df['loan_status'] == 'Charged Off']\n",
    "    ratio = failed_people.shape[0]/temp_df.shape[0]\n",
    "    print('Failed ratio : {}'.format(ratio))\n",
    "    ratios[ele] = ratio\n",
    "  print('')\n",
    "  print()\n",
    "  sorted_ratios = sorted(ratios.items()) # ratio 오름차순 정렬된 list\n",
    "  ratio_dicts[col] = sorted_ratios"
   ]
  },
  {
   "cell_type": "code",
   "execution_count": 6,
   "metadata": {
    "id": "9dhq0xg2Lu7g"
   },
   "outputs": [],
   "source": [
    "df2 = df1.copy()\n",
    "\n",
    "for col in to_dummy:\n",
    "  ratios = ratio_dicts[col]\n",
    "  for index, ele in enumerate(ratios):\n",
    "    df2 = df2.replace(ele[0], index)"
   ]
  },
  {
   "cell_type": "code",
   "execution_count": null,
   "metadata": {
    "id": "0vFXmeG1MbSC"
   },
   "outputs": [],
   "source": [
    "df2.loc[:, to_dummy].head()"
   ]
  },
  {
   "cell_type": "code",
   "execution_count": null,
   "metadata": {
    "id": "UYPZwP2JeAVb"
   },
   "outputs": [],
   "source": [
    "'''\n",
    "to_dummy = ['home_ownership', 'verification_status', 'purpose']\n",
    "df2 = df1.drop(columns=to_dummy)\n",
    "    \n",
    "dummy_columns = []\n",
    "for i in to_dummy:\n",
    "  dummy = pd.get_dummies(df1[i])\n",
    "  dummy_columns.append(dummy.columns)\n",
    "  df2 = pd.concat([df2, dummy], axis=1, join='outer')\n",
    "'''"
   ]
  },
  {
   "cell_type": "code",
   "execution_count": 7,
   "metadata": {
    "id": "8aoeGnUoeCxn"
   },
   "outputs": [],
   "source": [
    "df2 = df2.replace({'loan_status' :'Charged Off'},0)\n",
    "df2 = df2.replace({'loan_status' :'Fully Paid'},1)\n",
    "df2=df2.replace({'initial_list_status':'w'},0)\n",
    "df2=df2.replace({'initial_list_status':'f'},1)"
   ]
  },
  {
   "cell_type": "code",
   "execution_count": 8,
   "metadata": {
    "colab": {
     "base_uri": "https://localhost:8080/",
     "height": 36
    },
    "id": "4xOQcwOv3Q9C",
    "outputId": "e755834d-d30f-488b-85fe-1e2a4385fae2"
   },
   "outputs": [
    {
     "data": {
      "application/vnd.google.colaboratory.intrinsic+json": {
       "type": "string"
      },
      "text/plain": [
       "'\\nprint(X_train.shape)\\nprint(X_val.shape)\\nprint(y_train.shape)\\nprint(y_val.shape)\\n'"
      ]
     },
     "execution_count": 8,
     "metadata": {},
     "output_type": "execute_result"
    }
   ],
   "source": [
    "# Test Data 분할\n",
    "\n",
    "def splitData(df_, ratio_, y_column):\n",
    "    \n",
    "    columns_ = df_.columns\n",
    "    # Subsample the data\n",
    "    mask = list(range(0, df_.shape[0], ratio_))\n",
    "    X_val = df_.iloc[mask, :].drop(y_column, 1)\n",
    "    y_val = df_.iloc[mask][y_column]\n",
    "    \n",
    "    mask = ~df_.index.isin(mask)\n",
    "    X_train = df_.loc[mask, :].drop(y_column, 1)\n",
    "    y_train = df_.loc[mask, y_column]\n",
    "    \n",
    "    return X_train, y_train, X_val, y_val\n",
    "\n",
    "# train set, validation set split \n",
    "# train set, validation set = 7 : 1\n",
    "\n",
    "X_train, y_train, X_val, y_val = splitData(df2, 8, y_column='loan_status')\n",
    "\n",
    "'''\n",
    "print(X_train.shape)\n",
    "print(X_val.shape)\n",
    "print(y_train.shape)\n",
    "print(y_val.shape)\n",
    "'''"
   ]
  },
  {
   "cell_type": "code",
   "execution_count": null,
   "metadata": {
    "id": "iZtu0d59_ll8"
   },
   "outputs": [],
   "source": [
    "# Test Data 분할\n",
    "'''\n",
    "from sklearn.model_selection import train_test_split\n",
    "\n",
    "X_ = df2.drop(['loan_status', 'ANY', 'educational'], axis=1)\n",
    "y_ = df2['loan_status']\n",
    "\n",
    "X_train, y_train, X_val, y_val = train_test_split(X_, y_, test_size=0.125)\n",
    "\n",
    "print(X_train.shape)\n",
    "print(X_val.shape)\n",
    "print(y_train.shape)\n",
    "print(y_val.shape)\n",
    "'''"
   ]
  },
  {
   "cell_type": "code",
   "execution_count": null,
   "metadata": {
    "id": "_idmS2BMpskn"
   },
   "outputs": [],
   "source": [
    "from sklearn.model_selection import train_test_split\n",
    "\n",
    "dfs = df2.sample(n=3000)\n",
    "print(dfs['loan_status'].value_counts())\n",
    "\n",
    "X_ = dfs.drop(['loan_status'], axis=1)\n",
    "y_ = dfs['loan_status']\n",
    "\n",
    "X_train, X_val, y_train, y_val = train_test_split(X_, y_, test_size=0.2)\n",
    "\n",
    "print(X_train.shape)\n",
    "print(X_val.shape)\n",
    "print(y_train.shape)\n",
    "print(y_val.shape)"
   ]
  },
  {
   "cell_type": "code",
   "execution_count": 9,
   "metadata": {
    "id": "nyeVucjw6CTg"
   },
   "outputs": [],
   "source": [
    "import numpy as np\n",
    "from cvxopt import matrix as cvxopt_matrix\n",
    "from cvxopt import solvers as cvxopt_solvers\n",
    "\n",
    "def Kernel_(x, y, params = 0, type_ = 'default') :\n",
    "    if type_ == 'rbf' :\n",
    "      Kernel = np.exp(- (np.sum(x ** 2, axis = 1).reshape(-1,1) + np.sum(y ** 2, axis = 1).reshape(1, -1) - 2 * x @ y.T) * params)\n",
    "      return Kernel\n",
    "      \n",
    "    elif type_ == 'default' :\n",
    "      Kernel = np.dot(x, y.T)\n",
    "      return Kernel\n",
    "\n",
    "def Minmax_(X) :\n",
    "    return (X - X.min(axis = 0)) / (X.max(axis= 0) - X.min(axis = 0)), X.max(axis =0) , X.min(axis =0)\n",
    "\n",
    "def Standar_(X) :\n",
    "    return (X - X.mean(axis =0)) / X.std(axis = 0), X.mean(axis =0), X.std(axis = 0)\n",
    "\n",
    "def Minmax_val(X, min, max) :\n",
    "  return (X - min) / (max - min)\n",
    "\n",
    "def Standar_val(X, avg, std) :\n",
    "  return (X - avg) / std\n",
    "\n",
    "def Convolution(pred, real) :\n",
    "    pred = np.array(pred)\n",
    "    y = np.array(real)\n",
    "    TP = np.sum((pred == 1) & (y == 1))\n",
    "    FP = np.sum((pred == 1) & (y != 1))\n",
    "    FN = np.sum((pred != 1) & (y == 1))\n",
    "    TN = np.sum((pred != 1) & (y != 1))\n",
    "    return TP, FP, FN, TN\n",
    "\n",
    "############## Accuracy is newly included!\n",
    "def acc_precision_recall(X) :\n",
    "  TP,FP,FN,TN = X\n",
    "  return (TP + TN) / (TP + FP + FN + TN), TP / (TP + FP), TP / (TP + FN)"
   ]
  },
  {
   "cell_type": "code",
   "execution_count": 10,
   "metadata": {
    "id": "LlZoZLfA6CTg"
   },
   "outputs": [],
   "source": [
    "#Initializing values and computing H matrix. Note the 1. to force to float type\n",
    "C = 10  # 여기 C는 hyperparameter이므로 변형 가능함 (이번에는 10으로 고정하고 진행)\n",
    "\n",
    "X, cache_avg, cache_std = Standar_(np.array(X_train))\n",
    "y = np.array(y_train)* 1.\n",
    "X = np.nan_to_num(X)\n",
    "\n",
    "y = y.reshape(-1,1) \n",
    "m, n = X.shape"
   ]
  },
  {
   "cell_type": "code",
   "execution_count": null,
   "metadata": {
    "id": "lSN3EPKh6CTg"
   },
   "outputs": [],
   "source": [
    "#Kernel 관련 정의 numpy array 형식으로 생성\n",
    "H_lin = Kernel_(X, X) * 1.\n",
    "H_lin *= y@y.T\n",
    "P_lin = cvxopt_matrix(H_lin)\n",
    "q = cvxopt_matrix(-np.ones((m, 1)))\n",
    "G = cvxopt_matrix(np.vstack((-np.eye(m),np.eye(m))))\n",
    "h = cvxopt_matrix(np.hstack((np.zeros(m), np.ones(m) * C)))\n",
    "A = cvxopt_matrix(y.reshape(1, -1))\n",
    "b = cvxopt_matrix(np.zeros(1))\n",
    "\n",
    "#Run solver\n",
    "sol = cvxopt_solvers.qp(P_lin, q, G, h, A, b)\n",
    "alphas = np.array(sol['x'])\n",
    "\n",
    "w = ((y * alphas).T @ X).reshape(-1,1)\n",
    "S = ((alphas > 1e-4) & (alphas < C-1e-4)).flatten()\n",
    "b = y[S] - np.sum(Kernel_(X, X[S], type_ = 'default')* y * alphas , axis = 0).reshape(-1,1)\n",
    "\n",
    "print('Alphas = ',alphas[(alphas > 1e-4) & (alphas < C-1e-4)])\n",
    "print('')\n",
    "print('w = ', w.flatten())\n",
    "print('')\n",
    "print('b = ', np.mean(b))\n",
    "print('')\n",
    "print(\"support vector : \", np.array(range(m))[S])"
   ]
  },
  {
   "cell_type": "code",
   "execution_count": null,
   "metadata": {
    "id": "YWX20RVQ6CTh"
   },
   "outputs": [],
   "source": [
    "#####################################\n",
    "#EFSVM 구현(Negative class(Yneg)들에 대한 Entropy\n",
    "########################################\n",
    "\n",
    "# You could use the following function to calculate the entropy\n",
    "from scipy.stats import entropy\n",
    "\n",
    "# You can use the following function to calculate the Euclidean distance (distance.cdist)\n",
    "from scipy.spatial import distance\n",
    "\n",
    "Ypos = y_train[y_train==1].index\n",
    "Yneg = y_train[y_train!=1].index\n",
    "\n",
    "Entropy_Yneg = pd.DataFrame()\n",
    "distNeg = pd.DataFrame(distance.cdist(X_train, X_train.loc[Yneg], 'euclidean'), index=X_train.index, columns=Yneg)"
   ]
  },
  {
   "cell_type": "code",
   "execution_count": null,
   "metadata": {
    "colab": {
     "base_uri": "https://localhost:8080/",
     "height": 488
    },
    "id": "3I9lhFSQ6CTh",
    "outputId": "64dde2c9-f199-4d5a-94c1-0fa2460e3c71"
   },
   "outputs": [
    {
     "data": {
      "text/html": [
       "\n",
       "  <div id=\"df-e502f6d2-cde0-4cfd-bc96-177b358bfe70\">\n",
       "    <div class=\"colab-df-container\">\n",
       "      <div>\n",
       "<style scoped>\n",
       "    .dataframe tbody tr th:only-of-type {\n",
       "        vertical-align: middle;\n",
       "    }\n",
       "\n",
       "    .dataframe tbody tr th {\n",
       "        vertical-align: top;\n",
       "    }\n",
       "\n",
       "    .dataframe thead th {\n",
       "        text-align: right;\n",
       "    }\n",
       "</style>\n",
       "<table border=\"1\" class=\"dataframe\">\n",
       "  <thead>\n",
       "    <tr style=\"text-align: right;\">\n",
       "      <th></th>\n",
       "      <th>31933</th>\n",
       "      <th>35684</th>\n",
       "      <th>3246</th>\n",
       "      <th>14699</th>\n",
       "      <th>10308</th>\n",
       "      <th>26155</th>\n",
       "      <th>36766</th>\n",
       "      <th>37207</th>\n",
       "      <th>27236</th>\n",
       "      <th>17310</th>\n",
       "      <th>...</th>\n",
       "      <th>22357</th>\n",
       "      <th>26791</th>\n",
       "      <th>9542</th>\n",
       "      <th>13775</th>\n",
       "      <th>15837</th>\n",
       "      <th>20076</th>\n",
       "      <th>24981</th>\n",
       "      <th>15941</th>\n",
       "      <th>476</th>\n",
       "      <th>1726</th>\n",
       "    </tr>\n",
       "  </thead>\n",
       "  <tbody>\n",
       "    <tr>\n",
       "      <th>105110</th>\n",
       "      <td>26525.620031</td>\n",
       "      <td>25825.760297</td>\n",
       "      <td>39341.620438</td>\n",
       "      <td>48356.113511</td>\n",
       "      <td>25428.258013</td>\n",
       "      <td>13113.490487</td>\n",
       "      <td>70542.165304</td>\n",
       "      <td>41768.223831</td>\n",
       "      <td>37028.615847</td>\n",
       "      <td>39316.455679</td>\n",
       "      <td>...</td>\n",
       "      <td>37166.573870</td>\n",
       "      <td>37528.362598</td>\n",
       "      <td>25416.723215</td>\n",
       "      <td>33213.402734</td>\n",
       "      <td>24922.734948</td>\n",
       "      <td>55299.650231</td>\n",
       "      <td>42260.878833</td>\n",
       "      <td>42135.623655</td>\n",
       "      <td>33126.585797</td>\n",
       "      <td>26593.795500</td>\n",
       "    </tr>\n",
       "    <tr>\n",
       "      <th>284664</th>\n",
       "      <td>28422.618802</td>\n",
       "      <td>24146.438582</td>\n",
       "      <td>56345.343749</td>\n",
       "      <td>59824.869206</td>\n",
       "      <td>16862.903764</td>\n",
       "      <td>21804.317197</td>\n",
       "      <td>72125.946202</td>\n",
       "      <td>64206.871794</td>\n",
       "      <td>46274.201654</td>\n",
       "      <td>44025.300741</td>\n",
       "      <td>...</td>\n",
       "      <td>40442.805429</td>\n",
       "      <td>16017.457423</td>\n",
       "      <td>15424.681238</td>\n",
       "      <td>16029.902201</td>\n",
       "      <td>15719.114839</td>\n",
       "      <td>51218.260990</td>\n",
       "      <td>22791.550044</td>\n",
       "      <td>40879.435267</td>\n",
       "      <td>37895.944991</td>\n",
       "      <td>24057.699134</td>\n",
       "    </tr>\n",
       "    <tr>\n",
       "      <th>205183</th>\n",
       "      <td>24029.159193</td>\n",
       "      <td>23735.098648</td>\n",
       "      <td>47502.226858</td>\n",
       "      <td>51800.746350</td>\n",
       "      <td>14570.880411</td>\n",
       "      <td>13603.434006</td>\n",
       "      <td>68704.490474</td>\n",
       "      <td>53149.077794</td>\n",
       "      <td>37392.460407</td>\n",
       "      <td>36840.087376</td>\n",
       "      <td>...</td>\n",
       "      <td>30624.715093</td>\n",
       "      <td>22901.694625</td>\n",
       "      <td>16947.523940</td>\n",
       "      <td>24978.833764</td>\n",
       "      <td>13486.287988</td>\n",
       "      <td>54657.498795</td>\n",
       "      <td>28241.820424</td>\n",
       "      <td>37910.003252</td>\n",
       "      <td>33767.737228</td>\n",
       "      <td>20623.196071</td>\n",
       "    </tr>\n",
       "    <tr>\n",
       "      <th>84018</th>\n",
       "      <td>34358.731293</td>\n",
       "      <td>30652.250014</td>\n",
       "      <td>57930.001697</td>\n",
       "      <td>62506.349906</td>\n",
       "      <td>11423.448726</td>\n",
       "      <td>13471.483858</td>\n",
       "      <td>81291.723877</td>\n",
       "      <td>62840.964557</td>\n",
       "      <td>51438.336391</td>\n",
       "      <td>47099.732841</td>\n",
       "      <td>...</td>\n",
       "      <td>45760.893670</td>\n",
       "      <td>18987.218234</td>\n",
       "      <td>12488.202693</td>\n",
       "      <td>26902.953466</td>\n",
       "      <td>17113.190025</td>\n",
       "      <td>61523.872830</td>\n",
       "      <td>22381.362106</td>\n",
       "      <td>49417.711747</td>\n",
       "      <td>44774.368200</td>\n",
       "      <td>31435.683331</td>\n",
       "    </tr>\n",
       "    <tr>\n",
       "      <th>276804</th>\n",
       "      <td>52008.314112</td>\n",
       "      <td>48652.470599</td>\n",
       "      <td>77128.849826</td>\n",
       "      <td>78747.111539</td>\n",
       "      <td>21106.194469</td>\n",
       "      <td>30988.290808</td>\n",
       "      <td>97808.666372</td>\n",
       "      <td>81779.438590</td>\n",
       "      <td>69234.427362</td>\n",
       "      <td>60311.634012</td>\n",
       "      <td>...</td>\n",
       "      <td>59616.162063</td>\n",
       "      <td>18352.249243</td>\n",
       "      <td>24547.146235</td>\n",
       "      <td>40826.825362</td>\n",
       "      <td>29635.005169</td>\n",
       "      <td>79130.890689</td>\n",
       "      <td>12843.430878</td>\n",
       "      <td>65242.483575</td>\n",
       "      <td>63783.384763</td>\n",
       "      <td>48342.649454</td>\n",
       "    </tr>\n",
       "    <tr>\n",
       "      <th>...</th>\n",
       "      <td>...</td>\n",
       "      <td>...</td>\n",
       "      <td>...</td>\n",
       "      <td>...</td>\n",
       "      <td>...</td>\n",
       "      <td>...</td>\n",
       "      <td>...</td>\n",
       "      <td>...</td>\n",
       "      <td>...</td>\n",
       "      <td>...</td>\n",
       "      <td>...</td>\n",
       "      <td>...</td>\n",
       "      <td>...</td>\n",
       "      <td>...</td>\n",
       "      <td>...</td>\n",
       "      <td>...</td>\n",
       "      <td>...</td>\n",
       "      <td>...</td>\n",
       "      <td>...</td>\n",
       "      <td>...</td>\n",
       "      <td>...</td>\n",
       "    </tr>\n",
       "    <tr>\n",
       "      <th>56905</th>\n",
       "      <td>134171.462267</td>\n",
       "      <td>137160.265579</td>\n",
       "      <td>114692.656670</td>\n",
       "      <td>121545.290585</td>\n",
       "      <td>164361.570590</td>\n",
       "      <td>156414.029788</td>\n",
       "      <td>97669.557909</td>\n",
       "      <td>117373.282332</td>\n",
       "      <td>118782.343279</td>\n",
       "      <td>138765.993784</td>\n",
       "      <td>...</td>\n",
       "      <td>134178.378509</td>\n",
       "      <td>169794.123745</td>\n",
       "      <td>161601.520388</td>\n",
       "      <td>147669.771653</td>\n",
       "      <td>156913.861631</td>\n",
       "      <td>111617.044014</td>\n",
       "      <td>177320.545626</td>\n",
       "      <td>125050.865238</td>\n",
       "      <td>120730.045851</td>\n",
       "      <td>137357.012267</td>\n",
       "    </tr>\n",
       "    <tr>\n",
       "      <th>235263</th>\n",
       "      <td>20803.975926</td>\n",
       "      <td>19117.082721</td>\n",
       "      <td>45016.516921</td>\n",
       "      <td>49884.710281</td>\n",
       "      <td>16134.599076</td>\n",
       "      <td>13283.971765</td>\n",
       "      <td>66479.142624</td>\n",
       "      <td>51557.459181</td>\n",
       "      <td>35888.837027</td>\n",
       "      <td>35777.032996</td>\n",
       "      <td>...</td>\n",
       "      <td>31043.171400</td>\n",
       "      <td>24254.116535</td>\n",
       "      <td>16089.697097</td>\n",
       "      <td>20882.518247</td>\n",
       "      <td>13296.082047</td>\n",
       "      <td>50304.912862</td>\n",
       "      <td>30342.449406</td>\n",
       "      <td>35326.084757</td>\n",
       "      <td>30316.027618</td>\n",
       "      <td>17473.026252</td>\n",
       "    </tr>\n",
       "    <tr>\n",
       "      <th>247935</th>\n",
       "      <td>75823.104261</td>\n",
       "      <td>79913.053899</td>\n",
       "      <td>59311.253694</td>\n",
       "      <td>67521.825578</td>\n",
       "      <td>105916.405883</td>\n",
       "      <td>98807.974221</td>\n",
       "      <td>40913.252350</td>\n",
       "      <td>64414.338668</td>\n",
       "      <td>58418.688060</td>\n",
       "      <td>81992.252365</td>\n",
       "      <td>...</td>\n",
       "      <td>73922.077322</td>\n",
       "      <td>111089.553248</td>\n",
       "      <td>103923.008523</td>\n",
       "      <td>90831.590853</td>\n",
       "      <td>98473.207466</td>\n",
       "      <td>58131.535366</td>\n",
       "      <td>118494.685023</td>\n",
       "      <td>66726.843224</td>\n",
       "      <td>61872.162761</td>\n",
       "      <td>78597.339084</td>\n",
       "    </tr>\n",
       "    <tr>\n",
       "      <th>170529</th>\n",
       "      <td>30978.601693</td>\n",
       "      <td>32107.762912</td>\n",
       "      <td>36757.030572</td>\n",
       "      <td>47290.188924</td>\n",
       "      <td>32173.209297</td>\n",
       "      <td>19597.102890</td>\n",
       "      <td>71472.281812</td>\n",
       "      <td>36004.960449</td>\n",
       "      <td>36610.494212</td>\n",
       "      <td>40951.866462</td>\n",
       "      <td>...</td>\n",
       "      <td>38136.687956</td>\n",
       "      <td>44971.804182</td>\n",
       "      <td>33035.015111</td>\n",
       "      <td>41411.255333</td>\n",
       "      <td>31849.014606</td>\n",
       "      <td>59783.011636</td>\n",
       "      <td>49227.971650</td>\n",
       "      <td>45473.165999</td>\n",
       "      <td>35848.876592</td>\n",
       "      <td>32000.988667</td>\n",
       "    </tr>\n",
       "    <tr>\n",
       "      <th>219302</th>\n",
       "      <td>24888.994437</td>\n",
       "      <td>26891.438131</td>\n",
       "      <td>34799.817932</td>\n",
       "      <td>42591.759033</td>\n",
       "      <td>31175.127367</td>\n",
       "      <td>22431.178319</td>\n",
       "      <td>63729.018606</td>\n",
       "      <td>38134.086029</td>\n",
       "      <td>30103.227852</td>\n",
       "      <td>34691.579828</td>\n",
       "      <td>...</td>\n",
       "      <td>30140.930770</td>\n",
       "      <td>41889.982974</td>\n",
       "      <td>31556.635053</td>\n",
       "      <td>36159.921031</td>\n",
       "      <td>28498.546183</td>\n",
       "      <td>53813.297452</td>\n",
       "      <td>46937.671295</td>\n",
       "      <td>37257.307521</td>\n",
       "      <td>29990.354303</td>\n",
       "      <td>25238.149340</td>\n",
       "    </tr>\n",
       "  </tbody>\n",
       "</table>\n",
       "<p>2400 rows × 280 columns</p>\n",
       "</div>\n",
       "      <button class=\"colab-df-convert\" onclick=\"convertToInteractive('df-e502f6d2-cde0-4cfd-bc96-177b358bfe70')\"\n",
       "              title=\"Convert this dataframe to an interactive table.\"\n",
       "              style=\"display:none;\">\n",
       "        \n",
       "  <svg xmlns=\"http://www.w3.org/2000/svg\" height=\"24px\"viewBox=\"0 0 24 24\"\n",
       "       width=\"24px\">\n",
       "    <path d=\"M0 0h24v24H0V0z\" fill=\"none\"/>\n",
       "    <path d=\"M18.56 5.44l.94 2.06.94-2.06 2.06-.94-2.06-.94-.94-2.06-.94 2.06-2.06.94zm-11 1L8.5 8.5l.94-2.06 2.06-.94-2.06-.94L8.5 2.5l-.94 2.06-2.06.94zm10 10l.94 2.06.94-2.06 2.06-.94-2.06-.94-.94-2.06-.94 2.06-2.06.94z\"/><path d=\"M17.41 7.96l-1.37-1.37c-.4-.4-.92-.59-1.43-.59-.52 0-1.04.2-1.43.59L10.3 9.45l-7.72 7.72c-.78.78-.78 2.05 0 2.83L4 21.41c.39.39.9.59 1.41.59.51 0 1.02-.2 1.41-.59l7.78-7.78 2.81-2.81c.8-.78.8-2.07 0-2.86zM5.41 20L4 18.59l7.72-7.72 1.47 1.35L5.41 20z\"/>\n",
       "  </svg>\n",
       "      </button>\n",
       "      \n",
       "  <style>\n",
       "    .colab-df-container {\n",
       "      display:flex;\n",
       "      flex-wrap:wrap;\n",
       "      gap: 12px;\n",
       "    }\n",
       "\n",
       "    .colab-df-convert {\n",
       "      background-color: #E8F0FE;\n",
       "      border: none;\n",
       "      border-radius: 50%;\n",
       "      cursor: pointer;\n",
       "      display: none;\n",
       "      fill: #1967D2;\n",
       "      height: 32px;\n",
       "      padding: 0 0 0 0;\n",
       "      width: 32px;\n",
       "    }\n",
       "\n",
       "    .colab-df-convert:hover {\n",
       "      background-color: #E2EBFA;\n",
       "      box-shadow: 0px 1px 2px rgba(60, 64, 67, 0.3), 0px 1px 3px 1px rgba(60, 64, 67, 0.15);\n",
       "      fill: #174EA6;\n",
       "    }\n",
       "\n",
       "    [theme=dark] .colab-df-convert {\n",
       "      background-color: #3B4455;\n",
       "      fill: #D2E3FC;\n",
       "    }\n",
       "\n",
       "    [theme=dark] .colab-df-convert:hover {\n",
       "      background-color: #434B5C;\n",
       "      box-shadow: 0px 1px 3px 1px rgba(0, 0, 0, 0.15);\n",
       "      filter: drop-shadow(0px 1px 2px rgba(0, 0, 0, 0.3));\n",
       "      fill: #FFFFFF;\n",
       "    }\n",
       "  </style>\n",
       "\n",
       "      <script>\n",
       "        const buttonEl =\n",
       "          document.querySelector('#df-e502f6d2-cde0-4cfd-bc96-177b358bfe70 button.colab-df-convert');\n",
       "        buttonEl.style.display =\n",
       "          google.colab.kernel.accessAllowed ? 'block' : 'none';\n",
       "\n",
       "        async function convertToInteractive(key) {\n",
       "          const element = document.querySelector('#df-e502f6d2-cde0-4cfd-bc96-177b358bfe70');\n",
       "          const dataTable =\n",
       "            await google.colab.kernel.invokeFunction('convertToInteractive',\n",
       "                                                     [key], {});\n",
       "          if (!dataTable) return;\n",
       "\n",
       "          const docLinkHtml = 'Like what you see? Visit the ' +\n",
       "            '<a target=\"_blank\" href=https://colab.research.google.com/notebooks/data_table.ipynb>data table notebook</a>'\n",
       "            + ' to learn more about interactive tables.';\n",
       "          element.innerHTML = '';\n",
       "          dataTable['output_type'] = 'display_data';\n",
       "          await google.colab.output.renderOutput(dataTable, element);\n",
       "          const docLink = document.createElement('div');\n",
       "          docLink.innerHTML = docLinkHtml;\n",
       "          element.appendChild(docLink);\n",
       "        }\n",
       "      </script>\n",
       "    </div>\n",
       "  </div>\n",
       "  "
      ],
      "text/plain": [
       "                31933          35684          3246           14699  \\\n",
       "105110   26525.620031   25825.760297   39341.620438   48356.113511   \n",
       "284664   28422.618802   24146.438582   56345.343749   59824.869206   \n",
       "205183   24029.159193   23735.098648   47502.226858   51800.746350   \n",
       "84018    34358.731293   30652.250014   57930.001697   62506.349906   \n",
       "276804   52008.314112   48652.470599   77128.849826   78747.111539   \n",
       "...               ...            ...            ...            ...   \n",
       "56905   134171.462267  137160.265579  114692.656670  121545.290585   \n",
       "235263   20803.975926   19117.082721   45016.516921   49884.710281   \n",
       "247935   75823.104261   79913.053899   59311.253694   67521.825578   \n",
       "170529   30978.601693   32107.762912   36757.030572   47290.188924   \n",
       "219302   24888.994437   26891.438131   34799.817932   42591.759033   \n",
       "\n",
       "                10308          26155         36766          37207  \\\n",
       "105110   25428.258013   13113.490487  70542.165304   41768.223831   \n",
       "284664   16862.903764   21804.317197  72125.946202   64206.871794   \n",
       "205183   14570.880411   13603.434006  68704.490474   53149.077794   \n",
       "84018    11423.448726   13471.483858  81291.723877   62840.964557   \n",
       "276804   21106.194469   30988.290808  97808.666372   81779.438590   \n",
       "...               ...            ...           ...            ...   \n",
       "56905   164361.570590  156414.029788  97669.557909  117373.282332   \n",
       "235263   16134.599076   13283.971765  66479.142624   51557.459181   \n",
       "247935  105916.405883   98807.974221  40913.252350   64414.338668   \n",
       "170529   32173.209297   19597.102890  71472.281812   36004.960449   \n",
       "219302   31175.127367   22431.178319  63729.018606   38134.086029   \n",
       "\n",
       "                27236          17310  ...          22357          26791  \\\n",
       "105110   37028.615847   39316.455679  ...   37166.573870   37528.362598   \n",
       "284664   46274.201654   44025.300741  ...   40442.805429   16017.457423   \n",
       "205183   37392.460407   36840.087376  ...   30624.715093   22901.694625   \n",
       "84018    51438.336391   47099.732841  ...   45760.893670   18987.218234   \n",
       "276804   69234.427362   60311.634012  ...   59616.162063   18352.249243   \n",
       "...               ...            ...  ...            ...            ...   \n",
       "56905   118782.343279  138765.993784  ...  134178.378509  169794.123745   \n",
       "235263   35888.837027   35777.032996  ...   31043.171400   24254.116535   \n",
       "247935   58418.688060   81992.252365  ...   73922.077322  111089.553248   \n",
       "170529   36610.494212   40951.866462  ...   38136.687956   44971.804182   \n",
       "219302   30103.227852   34691.579828  ...   30140.930770   41889.982974   \n",
       "\n",
       "                9542           13775          15837          20076  \\\n",
       "105110   25416.723215   33213.402734   24922.734948   55299.650231   \n",
       "284664   15424.681238   16029.902201   15719.114839   51218.260990   \n",
       "205183   16947.523940   24978.833764   13486.287988   54657.498795   \n",
       "84018    12488.202693   26902.953466   17113.190025   61523.872830   \n",
       "276804   24547.146235   40826.825362   29635.005169   79130.890689   \n",
       "...               ...            ...            ...            ...   \n",
       "56905   161601.520388  147669.771653  156913.861631  111617.044014   \n",
       "235263   16089.697097   20882.518247   13296.082047   50304.912862   \n",
       "247935  103923.008523   90831.590853   98473.207466   58131.535366   \n",
       "170529   33035.015111   41411.255333   31849.014606   59783.011636   \n",
       "219302   31556.635053   36159.921031   28498.546183   53813.297452   \n",
       "\n",
       "                24981          15941          476            1726   \n",
       "105110   42260.878833   42135.623655   33126.585797   26593.795500  \n",
       "284664   22791.550044   40879.435267   37895.944991   24057.699134  \n",
       "205183   28241.820424   37910.003252   33767.737228   20623.196071  \n",
       "84018    22381.362106   49417.711747   44774.368200   31435.683331  \n",
       "276804   12843.430878   65242.483575   63783.384763   48342.649454  \n",
       "...               ...            ...            ...            ...  \n",
       "56905   177320.545626  125050.865238  120730.045851  137357.012267  \n",
       "235263   30342.449406   35326.084757   30316.027618   17473.026252  \n",
       "247935  118494.685023   66726.843224   61872.162761   78597.339084  \n",
       "170529   49227.971650   45473.165999   35848.876592   32000.988667  \n",
       "219302   46937.671295   37257.307521   29990.354303   25238.149340  \n",
       "\n",
       "[2400 rows x 280 columns]"
      ]
     },
     "execution_count": 23,
     "metadata": {},
     "output_type": "execute_result"
    }
   ],
   "source": [
    "distNeg"
   ]
  },
  {
   "cell_type": "code",
   "execution_count": null,
   "metadata": {
    "id": "J18wg7uX6CTh"
   },
   "outputs": [],
   "source": [
    "# Hyperparameter\n",
    "C = 10\n",
    "Gamma = 2 \n",
    "k = 7 # Number of Nearest Neighbor\n",
    "m = 10\n",
    "beta = 1/18"
   ]
  },
  {
   "cell_type": "code",
   "execution_count": null,
   "metadata": {
    "id": "lHy71ZtP6CTh"
   },
   "outputs": [],
   "source": [
    "############################################\n",
    "#EFSVM 구현 (Negative class (Yneg)들에 대한 Entropy)\n",
    "#1. index 별로 Euclidean을 기준으로 가까운 k개 numP, numN, probP, probN, H 저장\n",
    "########################################################\n",
    "\n",
    "for i in Yneg:\n",
    "    numP = np.sum(y_train.loc[distNeg.loc[:,i].sort_values()[1:k+1].index] == 1)\n",
    "    numN = k - numP\n",
    "    probP = numP/k\n",
    "    probN = numN/k\n",
    "    H = entropy([probP, probN])\n",
    "    Entropy_Yneg.loc[i, 'numP'] = numP\n",
    "    Entropy_Yneg.loc[i, 'numN'] = numN\n",
    "    Entropy_Yneg.loc[i, 'probP'] = probP\n",
    "    Entropy_Yneg.loc[i, 'probN'] = probN\n",
    "    Entropy_Yneg.loc[i, 'H'] = H"
   ]
  },
  {
   "cell_type": "code",
   "execution_count": null,
   "metadata": {
    "id": "UotjMXeK6CTi"
   },
   "outputs": [],
   "source": [
    "################################################\n",
    "#EFSVM 구현 (subset 나누기, FM_l구하기, si 구하기)\n",
    "#1. 구해진 엔트로피를 기준으로 구획을 m만큼 나누기\n",
    "#2. 나뉘어진 subset을 FM_l을 할당 *1-beta*(m-l)\n",
    "#3. Fuzzy membership s_i 설정 (Ypos =1, Yneg=FM_l)\n",
    "################################################\n",
    "\n",
    "Emax, Emin = Entropy_Yneg['H'].max(), Entropy_Yneg['H'].min()\n",
    "FM = {}\n",
    "\n",
    "for l in range(1, m+1):\n",
    "    thrUp = Emin + l/m * (Emax - Emin)\n",
    "    thrLow = Emin + (l-1)/m * (Emax - Emin)\n",
    "    if m == l:\n",
    "      Entropy_Yneg.loc[(Entropy_Yneg['H'] >= thrLow) &(Entropy_Yneg['H'] <= thrUp), 'subi' ] = l\n",
    "      Entropy_Yneg.loc[(Entropy_Yneg['H'] >= thrLow) &(Entropy_Yneg['H'] <= thrUp), 'FM' ] = 1 - beta * (l-1)\n",
    "    else:\n",
    "      Entropy_Yneg.loc[(Entropy_Yneg['H'] >= thrLow) &(Entropy_Yneg['H'] < thrUp), 'subi' ] = l\n",
    "      Entropy_Yneg.loc[(Entropy_Yneg['H'] >= thrLow) &(Entropy_Yneg['H'] < thrUp), 'FM' ] = 1 - beta * (l-1)\n",
    "\n",
    "si = pd.DataFrame(index=X_train.index)\n",
    "si.loc[Ypos, 'si']=1\n",
    "si.loc[Entropy_Yneg.index, 'si'] = Entropy_Yneg['FM'].values\n",
    "si = np.array(si['si'])"
   ]
  },
  {
   "cell_type": "code",
   "execution_count": null,
   "metadata": {
    "colab": {
     "base_uri": "https://localhost:8080/"
    },
    "id": "3abD-fQnKPR4",
    "outputId": "cdbb73d3-31f9-4811-9baa-76e468a9a42b"
   },
   "outputs": [
    {
     "name": "stdout",
     "output_type": "stream",
     "text": [
      "     pcost       dcost       gap    pres   dres\n",
      " 0: -1.2378e+03 -3.7208e+04  7e+04  1e-01  5e-15\n",
      " 1: -1.3474e+03 -3.9006e+03  4e+03  7e-03  1e-15\n",
      " 2: -2.0909e+03 -2.4334e+03  5e+02  7e-04  2e-15\n",
      " 3: -2.1944e+03 -2.1985e+03  5e+00  8e-06  2e-15\n",
      " 4: -2.1955e+03 -2.1956e+03  5e-02  8e-08  2e-15\n",
      " 5: -2.1956e+03 -2.1956e+03  5e-04  8e-10  1e-15\n",
      "Optimal solution found.\n",
      "Alphas =  [5.55555505 6.66666627 5.55555505 6.66666627 6.66666627 5.55555505\n",
      " 5.55555505 5.55555505 5.55555505 4.99999943 6.66666627 5.55555505\n",
      " 4.99999943 6.66666627 5.55555505 6.66666627 6.66666627 4.99999943\n",
      " 5.55555505 5.55555505 5.55555505 4.99999943 5.55555505 6.66666627\n",
      " 5.55555505 5.55555505 4.99999943 4.99999943 4.99999943 5.55555505\n",
      " 4.99999943 5.55555505 6.66666627 5.55555505 5.55555505 6.66666627\n",
      " 5.55555505 5.55555505 5.55555505 4.99999943 4.99999943 4.99999943\n",
      " 4.99999943 4.99999943 6.66666627 6.66666627 6.66666627 4.99999943\n",
      " 5.55555505 5.55555505 5.55555505 5.55555505 5.55555505 5.55555505\n",
      " 4.99999943 5.55555505 6.66666627 6.66666627 5.55555505 4.99999943\n",
      " 6.66666627 5.55555505 6.66666627 5.55555505 6.66666627 6.66666627\n",
      " 4.99999943 6.66666627 6.66666627 4.99999943 5.55555505 6.66666627\n",
      " 6.66666627 5.55555505 5.55555505 5.55555505 5.55555505 6.66666627\n",
      " 4.99999943 6.66666627 6.66666627 4.99999943 4.99999943 5.55555505\n",
      " 6.66666627 4.99999943 4.99999943 5.55555505 6.66666627 4.99999943\n",
      " 5.55555505 6.66666627 6.66666627 6.66666627 5.55555505 6.66666627\n",
      " 6.66666627 6.66666627 6.66666627 5.55555505 4.99999943 6.66666627\n",
      " 6.66666627 6.66666627 5.55555505 6.66666627 5.55555505 6.66666627\n",
      " 4.99999943 5.55555505 6.66666627 5.55555505 5.55555505 4.99999943\n",
      " 5.55555505 6.66666627 6.66666627 6.66666627 5.55555505 4.99999943\n",
      " 5.55555505 6.66666627 6.66666627 6.66666627 6.66666627 5.55555505\n",
      " 5.55555505 6.66666627 6.66666627 5.55555505 6.66666627 6.66666627\n",
      " 4.99999943 6.66666627 4.99999943 4.99999943 6.66666627 4.99999943\n",
      " 6.66666627 5.55555505 5.55555505 5.55555505 6.66666627 4.99999943\n",
      " 6.66666627 4.99999943]\n",
      "\n",
      "b =  [4.89835578e-34]\n",
      "\n",
      "support vector :  [  22   31   37   55   56   79  143  144  181  194  224  228  251  253\n",
      "  276  280  322  337  344  363  369  382  395  403  418  431  436  437\n",
      "  469  471  472  478  486  509  521  540  581  618  620  628  683  686\n",
      "  691  693  793  794  796  808  820  822  836  864  900  919  922  930\n",
      "  945  963  968  971  989 1028 1037 1044 1047 1056 1065 1073 1192 1194\n",
      " 1200 1205 1214 1228 1233 1237 1256 1258 1268 1283 1296 1315 1322 1367\n",
      " 1410 1415 1425 1440 1496 1509 1523 1553 1561 1582 1605 1610 1648 1653\n",
      " 1656 1669 1683 1687 1697 1715 1717 1754 1760 1813 1820 1836 1841 1844\n",
      " 1861 1864 1872 1899 1907 1914 1941 1944 1951 1959 1971 1976 2000 2023\n",
      " 2034 2046 2102 2130 2133 2148 2154 2165 2176 2193 2195 2208 2232 2242\n",
      " 2259 2274 2298 2304 2335 2353]\n"
     ]
    }
   ],
   "source": [
    "xs, m = X.shape\n",
    "\n",
    "#Kernel 관련 정의 numpy array 형식으로 생성\n",
    "H = Kernel_(X,  X  , params = Gamma, type_ = 'rbf')* 1.\n",
    "H *= y@y.T \n",
    "P = cvxopt_matrix(H)\n",
    "q = cvxopt_matrix(-np.ones((xs, 1)))\n",
    "G = cvxopt_matrix(np.vstack((-np.eye(xs),np.eye(xs))))\n",
    "h = cvxopt_matrix(np.hstack((np.zeros(xs), si * C)))\n",
    "A = cvxopt_matrix(y.reshape(1, -1))\n",
    "b = cvxopt_matrix(np.zeros(1))\n",
    "\n",
    "#Run solver\n",
    "sol = cvxopt_solvers.qp(P, q, G, h, A, b)\n",
    "alphas = np.array(sol['x'])\n",
    "\n",
    "#Results\n",
    "S = ((alphas > 1e-4) & (alphas < C-1e-4)).flatten()\n",
    "b = y[S] - np.sum(Kernel_(X, X[S]  , params = 2, type_ = 'rbf')* y * alphas , axis = 0).reshape(-1,1)\n",
    "print('Alphas = ',alphas[(alphas > 1e-4) & (alphas < C-1e-4)])\n",
    "print('')\n",
    "print('b = ', b[0])\n",
    "print('')\n",
    "print(\"support vector : \", np.array(range(xs))[S])"
   ]
  },
  {
   "cell_type": "code",
   "execution_count": null,
   "metadata": {
    "colab": {
     "base_uri": "https://localhost:8080/"
    },
    "id": "hPVIB-D96CTi",
    "outputId": "0ffe02b6-4dc8-43c5-be0f-89196867e1b1"
   },
   "outputs": [
    {
     "data": {
      "text/plain": [
       "(0.4266666666666667, 0.8212435233160622, 0.44858490566037734)"
      ]
     },
     "execution_count": 28,
     "metadata": {},
     "output_type": "execute_result"
    }
   ],
   "source": [
    "pred_sol = np.sign(np.sum(Kernel_(X, X, params = 2, type_ = 'rbf')* y * alphas , axis = 0).reshape(-1,1) + b[0])\n",
    "acc_precision_recall(Convolution(pred_sol,y))"
   ]
  },
  {
   "cell_type": "markdown",
   "metadata": {
    "id": "UeLpAeWVo1rW"
   },
   "source": [
    "## 3. System Implementation\n",
    "- df_test에 기반하여 실제 사용을 위한 system implemetation 작업 진행\n",
    "- Performance에 대한 평가데이터는 df_test로 지난 프로젝트와 마찬가지로 Data Pre-processing이 System implementation에 동시 구현\n",
    "- 특히, scaler를 사용할 경우 cache를 반드시 사용하여 올바른 system implementation이 되도록 할 것!!! (주의!!!)"
   ]
  },
  {
   "cell_type": "code",
   "execution_count": null,
   "metadata": {
    "id": "y1IunsmuWJte"
   },
   "outputs": [],
   "source": [
    "df1_test=df_test.dropna(axis=0)"
   ]
  },
  {
   "cell_type": "code",
   "execution_count": null,
   "metadata": {
    "id": "trSCawv4WpXQ"
   },
   "outputs": [],
   "source": [
    "df1_test = df1_test.replace({'sub_grade' :'A1'},1)\n",
    "df1_test = df1_test.replace({'sub_grade' : 'A2'},2)\n",
    "df1_test = df1_test.replace({'sub_grade' : 'A3'},3)\n",
    "df1_test = df1_test.replace({'sub_grade' : 'A4'},4)\n",
    "df1_test = df1_test.replace({'sub_grade' : 'A5'},5)\n",
    "df1_test = df1_test.replace({'sub_grade' : 'B1'},6)\n",
    "df1_test = df1_test.replace({'sub_grade' : 'B2'},7)\n",
    "df1_test = df1_test.replace({'sub_grade' : 'B3'},8)\n",
    "df1_test = df1_test.replace({'sub_grade' : 'B4'},9)\n",
    "df1_test = df1_test.replace({'sub_grade' : 'B5'},10)\n",
    "df1_test = df1_test.replace({'sub_grade' : 'C1'},11)\n",
    "df1_test = df1_test.replace({'sub_grade' : 'C2'},12)\n",
    "df1_test = df1_test.replace({'sub_grade' : 'C3'},13)\n",
    "df1_test = df1_test.replace({'sub_grade' : 'C4'},14)\n",
    "df1_test = df1_test.replace({'sub_grade' : 'C5'},15)\n",
    "df1_test = df1_test.replace({'sub_grade' : 'D1'},16)\n",
    "df1_test = df1_test.replace({'sub_grade' :'D2'},17)\n",
    "df1_test = df1_test.replace({'sub_grade' : 'D3'},18)\n",
    "df1_test = df1_test.replace({'sub_grade' : 'D4'},19)\n",
    "df1_test = df1_test.replace({'sub_grade' : 'D5'},20)\n",
    "df1_test = df1_test.replace({'sub_grade' : 'E1'},21)\n",
    "df1_test = df1_test.replace({'sub_grade' : 'E2'},22)\n",
    "df1_test = df1_test.replace({'sub_grade' : 'E3'},23)\n",
    "df1_test = df1_test.replace({'sub_grade' : 'E4'},24)\n",
    "df1_test = df1_test.replace({'sub_grade' : 'E5'},25)\n",
    "df1_test = df1_test.replace({'sub_grade' : 'F1'},26)\n",
    "df1_test = df1_test.replace({'sub_grade' : 'F2'},27)\n",
    "df1_test = df1_test.replace({'sub_grade' : 'F3'},28)\n",
    "df1_test = df1_test.replace({'sub_grade' : 'F4'},29)\n",
    "df1_test = df1_test.replace({'sub_grade' : 'F5'},30)\n",
    "df1_test = df1_test.replace({'sub_grade' : 'G1'},31)\n",
    "df1_test = df1_test.replace({'sub_grade' : 'G2'},32)\n",
    "df1_test = df1_test.replace({'sub_grade' : 'G3'},33)\n",
    "df1_test = df1_test.replace({'sub_grade' : 'G4'},34)\n",
    "df1_test = df1_test.replace({'sub_grade' : 'G5'},35)\n",
    "\n",
    "df1_test = df1_test.drop('grade', axis=1)\n",
    "\n",
    "df1_test = df1_test.replace({'emp_length' :'10+ years'},10)\n",
    "df1_test = df1_test.replace({'emp_length' :'9 years'},9)\n",
    "df1_test = df1_test.replace({'emp_length' :'8 years'},8)\n",
    "df1_test = df1_test.replace({'emp_length' :'7 years'},7)\n",
    "df1_test = df1_test.replace({'emp_length' :'6 years'},6)\n",
    "df1_test = df1_test.replace({'emp_length' :'5 years'},5)\n",
    "df1_test = df1_test.replace({'emp_length' :'4 years'},4)\n",
    "df1_test = df1_test.replace({'emp_length' :'3 years'},3)\n",
    "df1_test = df1_test.replace({'emp_length' :'2 years'},2)\n",
    "df1_test = df1_test.replace({'emp_length' :'1 year'},1)\n",
    "df1_test = df1_test.replace({'emp_length' :'< 1 year'},0)\n",
    "df1_test"
   ]
  },
  {
   "cell_type": "code",
   "execution_count": null,
   "metadata": {
    "id": "sk_l52WtYNRV"
   },
   "outputs": [],
   "source": [
    "df2_test = df1_test.copy()\n",
    "\n",
    "for col in to_dummy:\n",
    "  ratios = ratio_dicts[col]\n",
    "  for index, ele in enumerate(ratios):\n",
    "    df2_test = df2_test.replace(ele[0], index) # ele[0] : 원소 이름, index : ratio가 오름차순으로 정렬되어서, 0이 가장 ratio가 가장 낮음"
   ]
  },
  {
   "cell_type": "code",
   "execution_count": null,
   "metadata": {
    "id": "I_MvOkPsYbgS"
   },
   "outputs": [],
   "source": [
    "df2_test = df2_test.replace({'loan_status' :'Charged Off'},0)\n",
    "df2_test = df2_test.replace({'loan_status' :'Fully Paid'},1)\n",
    "df2_test = df2_test.replace({'initial_list_status':'w'},0)\n",
    "df2_test = df2_test.replace({'initial_list_status':'f'},1)"
   ]
  },
  {
   "cell_type": "code",
   "execution_count": null,
   "metadata": {
    "id": "wLl8HFGnY3kC"
   },
   "outputs": [],
   "source": [
    "X_test = Standar_val(np.array(df2_test.drop(columns=['loan_status'])), avg=cache_avg, std=cache_std)\n",
    "X_test = np.nan_to_num(X_test)\n",
    "\n",
    "y_test = np.array(df2_test['loan_status'])* 1.\n",
    "y_test = y_test.reshape(-1,1)"
   ]
  },
  {
   "cell_type": "code",
   "execution_count": null,
   "metadata": {
    "colab": {
     "base_uri": "https://localhost:8080/"
    },
    "id": "LZD7Gpu0jmr3",
    "outputId": "4c2535b8-e6b7-47ff-d8cf-170a75bf001e"
   },
   "outputs": [
    {
     "data": {
      "text/plain": [
       "(0.64, 0.990625, 0.5981132075471698)"
      ]
     },
     "execution_count": 41,
     "metadata": {},
     "output_type": "execute_result"
    }
   ],
   "source": [
    "# Solution\n",
    "pred_sol = np.sign(np.sum(Kernel_(X, X  ,type_ = 'default')* y, axis = 0).reshape(-1,1) + b[0])\n",
    "acc_precision_recall(Convolution(pred_sol,y))"
   ]
  },
  {
   "cell_type": "code",
   "execution_count": null,
   "metadata": {
    "colab": {
     "base_uri": "https://localhost:8080/",
     "height": 408
    },
    "id": "F6MezYmunchQ",
    "outputId": "3822e486-0c64-480f-d317-bdf7f7885ff6"
   },
   "outputs": [
    {
     "ename": "TypeError",
     "evalue": "ignored",
     "output_type": "error",
     "traceback": [
      "\u001b[0;31m---------------------------------------------------------------------------\u001b[0m",
      "\u001b[0;31mTypeError\u001b[0m                                 Traceback (most recent call last)",
      "\u001b[0;32m<ipython-input-47-1b930fc7c3b6>\u001b[0m in \u001b[0;36m<module>\u001b[0;34m\u001b[0m\n\u001b[1;32m     12\u001b[0m \u001b[0;34m\u001b[0m\u001b[0m\n\u001b[1;32m     13\u001b[0m \u001b[0;31m#Run solver\u001b[0m\u001b[0;34m\u001b[0m\u001b[0;34m\u001b[0m\u001b[0;34m\u001b[0m\u001b[0m\n\u001b[0;32m---> 14\u001b[0;31m \u001b[0msol\u001b[0m \u001b[0;34m=\u001b[0m \u001b[0mcvxopt_solvers\u001b[0m\u001b[0;34m.\u001b[0m\u001b[0mqp\u001b[0m\u001b[0;34m(\u001b[0m\u001b[0mP\u001b[0m\u001b[0;34m,\u001b[0m \u001b[0mq\u001b[0m\u001b[0;34m,\u001b[0m \u001b[0mG\u001b[0m\u001b[0;34m,\u001b[0m \u001b[0mh\u001b[0m\u001b[0;34m,\u001b[0m \u001b[0mA\u001b[0m\u001b[0;34m,\u001b[0m \u001b[0mb\u001b[0m\u001b[0;34m)\u001b[0m\u001b[0;34m\u001b[0m\u001b[0;34m\u001b[0m\u001b[0m\n\u001b[0m\u001b[1;32m     15\u001b[0m \u001b[0malphas\u001b[0m \u001b[0;34m=\u001b[0m \u001b[0mnp\u001b[0m\u001b[0;34m.\u001b[0m\u001b[0marray\u001b[0m\u001b[0;34m(\u001b[0m\u001b[0msol\u001b[0m\u001b[0;34m[\u001b[0m\u001b[0;34m'x'\u001b[0m\u001b[0;34m]\u001b[0m\u001b[0;34m)\u001b[0m\u001b[0;34m\u001b[0m\u001b[0;34m\u001b[0m\u001b[0m\n\u001b[1;32m     16\u001b[0m \u001b[0;34m\u001b[0m\u001b[0m\n",
      "\u001b[0;32m/usr/local/lib/python3.8/dist-packages/cvxopt/coneprog.py\u001b[0m in \u001b[0;36mqp\u001b[0;34m(P, q, G, h, A, b, solver, kktsolver, initvals, **kwargs)\u001b[0m\n\u001b[1;32m   4483\u001b[0m             'residual as dual infeasibility certificate': dinfres}\n\u001b[1;32m   4484\u001b[0m \u001b[0;34m\u001b[0m\u001b[0m\n\u001b[0;32m-> 4485\u001b[0;31m     \u001b[0;32mreturn\u001b[0m \u001b[0mconeqp\u001b[0m\u001b[0;34m(\u001b[0m\u001b[0mP\u001b[0m\u001b[0;34m,\u001b[0m \u001b[0mq\u001b[0m\u001b[0;34m,\u001b[0m \u001b[0mG\u001b[0m\u001b[0;34m,\u001b[0m \u001b[0mh\u001b[0m\u001b[0;34m,\u001b[0m \u001b[0;32mNone\u001b[0m\u001b[0;34m,\u001b[0m \u001b[0mA\u001b[0m\u001b[0;34m,\u001b[0m  \u001b[0mb\u001b[0m\u001b[0;34m,\u001b[0m \u001b[0minitvals\u001b[0m\u001b[0;34m,\u001b[0m \u001b[0mkktsolver\u001b[0m \u001b[0;34m=\u001b[0m \u001b[0mkktsolver\u001b[0m\u001b[0;34m,\u001b[0m \u001b[0moptions\u001b[0m \u001b[0;34m=\u001b[0m \u001b[0moptions\u001b[0m\u001b[0;34m)\u001b[0m\u001b[0;34m\u001b[0m\u001b[0;34m\u001b[0m\u001b[0m\n\u001b[0m",
      "\u001b[0;32m/usr/local/lib/python3.8/dist-packages/cvxopt/coneprog.py\u001b[0m in \u001b[0;36mconeqp\u001b[0;34m(P, q, G, h, dims, A, b, initvals, kktsolver, xnewcopy, xdot, xaxpy, xscal, ynewcopy, ydot, yaxpy, yscal, **kwargs)\u001b[0m\n\u001b[1;32m   1892\u001b[0m     \u001b[0;32mif\u001b[0m \u001b[0mmatrixG\u001b[0m\u001b[0;34m:\u001b[0m\u001b[0;34m\u001b[0m\u001b[0;34m\u001b[0m\u001b[0m\n\u001b[1;32m   1893\u001b[0m         \u001b[0;32mif\u001b[0m \u001b[0mG\u001b[0m\u001b[0;34m.\u001b[0m\u001b[0mtypecode\u001b[0m \u001b[0;34m!=\u001b[0m \u001b[0;34m'd'\u001b[0m \u001b[0;32mor\u001b[0m \u001b[0mG\u001b[0m\u001b[0;34m.\u001b[0m\u001b[0msize\u001b[0m \u001b[0;34m!=\u001b[0m \u001b[0;34m(\u001b[0m\u001b[0mcdim\u001b[0m\u001b[0;34m,\u001b[0m \u001b[0mq\u001b[0m\u001b[0;34m.\u001b[0m\u001b[0msize\u001b[0m\u001b[0;34m[\u001b[0m\u001b[0;36m0\u001b[0m\u001b[0;34m]\u001b[0m\u001b[0;34m)\u001b[0m\u001b[0;34m:\u001b[0m\u001b[0;34m\u001b[0m\u001b[0;34m\u001b[0m\u001b[0m\n\u001b[0;32m-> 1894\u001b[0;31m             raise TypeError(\"'G' must be a 'd' matrix of size (%d, %d)\"\\\n\u001b[0m\u001b[1;32m   1895\u001b[0m                 %(cdim, q.size[0]))\n\u001b[1;32m   1896\u001b[0m         \u001b[0;32mdef\u001b[0m \u001b[0mfG\u001b[0m\u001b[0;34m(\u001b[0m\u001b[0mx\u001b[0m\u001b[0;34m,\u001b[0m \u001b[0my\u001b[0m\u001b[0;34m,\u001b[0m \u001b[0mtrans\u001b[0m \u001b[0;34m=\u001b[0m \u001b[0;34m'N'\u001b[0m\u001b[0;34m,\u001b[0m \u001b[0malpha\u001b[0m \u001b[0;34m=\u001b[0m \u001b[0;36m1.0\u001b[0m\u001b[0;34m,\u001b[0m \u001b[0mbeta\u001b[0m \u001b[0;34m=\u001b[0m \u001b[0;36m0.0\u001b[0m\u001b[0;34m)\u001b[0m\u001b[0;34m:\u001b[0m\u001b[0;34m\u001b[0m\u001b[0;34m\u001b[0m\u001b[0m\n",
      "\u001b[0;31mTypeError\u001b[0m: 'G' must be a 'd' matrix of size (4283, 1883)"
     ]
    }
   ],
   "source": [
    "xs, m = X_test.shape\n",
    "\n",
    "#Kernel 관련 정의 numpy array 형식으로 생성\n",
    "H = Kernel_(X_test,  X_test, params = Gamma, type_ = 'rbf')* 1.\n",
    "H *= y_test@y_test.T \n",
    "P = cvxopt_matrix(H)\n",
    "q = cvxopt_matrix(-np.ones((xs, 1)))\n",
    "G = cvxopt_matrix(np.vstack((-np.eye(xs),np.eye(xs))))\n",
    "h = cvxopt_matrix(np.hstack((np.zeros(xs), si * C)))\n",
    "A = cvxopt_matrix(y.reshape(1, -1))\n",
    "b = cvxopt_matrix(np.zeros(1))\n",
    "\n",
    "#Run solver\n",
    "sol = cvxopt_solvers.qp(P, q, G, h, A, b)\n",
    "alphas = np.array(sol['x'])\n",
    "\n",
    "#Results\n",
    "S = ((alphas > 1e-4) & (alphas < C-1e-4)).flatten()\n",
    "b = y[S] - np.sum(Kernel_(X, X[S]  , params = 2, type_ = 'rbf')* y * alphas , axis = 0).reshape(-1,1)\n",
    "print('Alphas = ',alphas[(alphas > 1e-4) & (alphas < C-1e-4)])\n",
    "print('')\n",
    "print('b = ', b[0])\n",
    "print('')\n",
    "print(\"support vector : \", np.array(range(xs))[S])"
   ]
  },
  {
   "cell_type": "code",
   "execution_count": null,
   "metadata": {
    "id": "RPJEsnLkjsXe"
   },
   "outputs": [],
   "source": [
    "pred_sol = np.sign(np.sum(Kernel_(X_test, X_test, params = 2, type_ = 'rbf') * y_test , axis = 0).reshape(-1,1) + b[0])\n",
    "acc_precision_recall(Convolution(pred_sol, y_test))"
   ]
  },
  {
   "cell_type": "markdown",
   "metadata": {
    "id": "7MzRz-sKnt0B"
   },
   "source": [
    "1. 전체적으로 다 같이 코드 리뷰하면서 변수 이름 정리\n",
    "2. 마지막 예측 차원 안 맞는 문제 해결 (alphas)\n",
    "3. 최적 Parameter 탐색 위해서 SVM fit하고 예측하는 과정 함수로 만들기\n",
    "4. 변수 별로 Scaling 방법 결정하기 (Standard, Min-Max, Log)\n",
    "5. Linear kernel SVM 할 때 b가 nan으로 나오는 문제 해결하기"
   ]
  },
  {
   "cell_type": "code",
   "execution_count": null,
   "metadata": {
    "id": "hTDdbiiroIru"
   },
   "outputs": [],
   "source": []
  }
 ],
 "metadata": {
  "colab": {
   "collapsed_sections": [
    "UeLpAeWVo1rW"
   ],
   "provenance": []
  },
  "kernelspec": {
   "display_name": "Python 3",
   "language": "python",
   "name": "python3"
  },
  "language_info": {
   "codemirror_mode": {
    "name": "ipython",
    "version": 3
   },
   "file_extension": ".py",
   "mimetype": "text/x-python",
   "name": "python",
   "nbconvert_exporter": "python",
   "pygments_lexer": "ipython3",
   "version": "3.8.8"
  }
 },
 "nbformat": 4,
 "nbformat_minor": 4
}
